{
 "cells": [
  {
   "cell_type": "code",
   "execution_count": 1,
   "id": "4594a37f-3aaf-459b-b31c-502a4f44ac78",
   "metadata": {},
   "outputs": [
    {
     "name": "stdout",
     "output_type": "stream",
     "text": [
      "API key is valid. Available models: ['whisper-1', 'tts-1', 'dall-e-2', 'tts-1-hd-1106', 'tts-1-hd', 'gpt-4-turbo-2024-04-09', 'gpt-4-turbo', 'gpt-3.5-turbo-1106', 'dall-e-3', 'gpt-4o-2024-05-13', 'gpt-4-0125-preview', 'gpt-4o', 'gpt-4-turbo-preview', 'text-embedding-3-small', 'text-embedding-3-large', 'gpt-3.5-turbo-16k', 'gpt-4-1106-preview', 'babbage-002', 'gpt-4', 'gpt-4-0613', 'gpt-3.5-turbo-0125', 'tts-1-1106', 'gpt-3.5-turbo', 'gpt-3.5-turbo-instruct', 'gpt-3.5-turbo-instruct-0914', 'text-embedding-ada-002', 'davinci-002']\n"
     ]
    }
   ],
   "source": [
    "import os\n",
    "from langchain_core.prompts import ChatPromptTemplate\n",
    "from langchain_core.output_parsers import StrOutputParser\n",
    "from langchain_openai import ChatOpenAI\n",
    "from langchain_anthropic import ChatAnthropic\n",
    "import openai\n",
    "\n",
    "# For ChatGPT-4\n",
    "openai.api_key = os.getenv(\"OPENAI_API_KEY\")\n",
    "# alternatively set LANGCHAIN_API_KEY\n",
    "os.environ[\"LANGCHAIN_TRACING_V2\"] = \"\"  # \"true\"\n",
    "\n",
    "try:\n",
    "    models = openai.models.list()\n",
    "    print(\"API key is valid. Available models:\", [model.id for model in models.data])\n",
    "except openai.error.AuthenticationError as e:\n",
    "    print(\"API key is invalid:\", str(e))\n",
    "\n",
    "openai_llm = ChatOpenAI(model=\"gpt-3.5-turbo\", api_key=os.getenv(\"OPENAI_API_KEY\"))  # gpt-4-turbo - more correct grammar info\n"
   ]
  },
  {
   "cell_type": "code",
   "execution_count": 3,
   "id": "db89eff5-e02d-467c-9f37-8906da6bf007",
   "metadata": {},
   "outputs": [],
   "source": [
    "def llama3_request(prompt):\n",
    "    # This function should interact with your local Llama3 model.\n",
    "    # Replace the below code with actual API or command-line interaction.\n",
    "    import subprocess\n",
    "    result = subprocess.run(['ollama', 'run', 'llama3', '--prompt', prompt], capture_output=True, text=True)\n",
    "    return result.stdout\n"
   ]
  },
  {
   "cell_type": "code",
   "execution_count": 12,
   "id": "38b2232f-0272-4621-bcc5-f9ffe75cc4d3",
   "metadata": {},
   "outputs": [
    {
     "name": "stdout",
     "output_type": "stream",
     "text": [
      "Term: List (13, 17)\n",
      "Word 0: pokreće (0, 7)\n",
      "Word 1: sve (8, 11)\n",
      "Word 2: List (13, 17)\n",
      "Term word: 2\n",
      "Word 3: sa (18, 20)\n",
      "Word 4: drveta (21, 27)\n",
      "Word 5: je (28, 30)\n",
      "Word 6: pao (31, 34)\n",
      "Word 7: na (35, 37)\n",
      "Word 8: zemlju (38, 44)\n",
      "Word 9: Na (46, 48)\n",
      "Word 10: stolu (49, 54)\n",
      "Word 11: je (55, 57)\n",
      "Word 12: bio (58, 61)\n",
      "Word 13: list (62, 66)\n",
      "Word 14: papira (67, 73)\n",
      "Word 15: sa (74, 76)\n",
      "Word 16: važnim (77, 83)\n",
      "Word 17: beleškama (84, 93)\n",
      "Word 18: Ljubav (95, 101)\n",
      "Word 19: je (102, 104)\n",
      "Word 20: najlepša (105, 113)\n",
      "{'word_slices': [(0, 7), (8, 11), (13, 17), (18, 20), (21, 27), (28, 30), (31, 34), (35, 37), (38, 44), (46, 48), (49, 54), (55, 57), (58, 61), (62, 66), (67, 73), (74, 76), (77, 83), (84, 93), (95, 101), (102, 104), (105, 113)], 'term_word_ids': [2]}\n",
      "NLTK punkt tokenizer not available for Serbian. Using default.\n",
      "{'text': 'pokreće sve. ||**List** sa drveta je pao na zemlju||. Na stolu je bio list papira sa važnim beleškama. Ljubav je najlepša', 'detected_language': 'Serbian'}\n"
     ]
    },
    {
     "data": {
      "text/html": [
       "U datoj rečenici, reč 'list' se odnosi na deo drveta koji je pao na zemlju. U ovom kontekstu, 'list' označava tanku ravnu površinu koja je deo drveta ili biljke.<hr>В данном предложении, слово 'list' относится к части дерева, которая упала на землю. В этом контексте 'list' означает тонкую плоскую поверхность, которая является частью дерева или растения."
      ],
      "text/plain": [
       "<IPython.core.display.HTML object>"
      ]
     },
     "metadata": {},
     "output_type": "display_data"
    },
    {
     "name": "stdout",
     "output_type": "stream",
     "text": [
      "**************************************************\n",
      "\n",
      "Term: List (13, 17)\n",
      "Word 0: pokreće (0, 7)\n",
      "Word 1: sve (8, 11)\n",
      "Word 2: List (13, 17)\n",
      "Term word: 2\n",
      "Word 3: sa (18, 20)\n",
      "Word 4: drveta (21, 27)\n",
      "Word 5: je (28, 30)\n",
      "Word 6: pao (31, 34)\n",
      "Word 7: na (35, 37)\n",
      "Word 8: zemlju (38, 44)\n",
      "Word 9: Na (46, 48)\n",
      "Word 10: stolu (49, 54)\n",
      "Word 11: je (55, 57)\n",
      "Word 12: bio (58, 61)\n",
      "Word 13: list (62, 66)\n",
      "Word 14: papira (67, 73)\n",
      "Word 15: sa (74, 76)\n",
      "Word 16: važnim (77, 83)\n",
      "Word 17: beleškama (84, 93)\n",
      "Word 18: Ljubav (95, 101)\n",
      "Word 19: je (102, 104)\n",
      "Word 20: najlepša (105, 113)\n",
      "{'word_slices': [(0, 7), (8, 11), (13, 17), (18, 20), (21, 27), (28, 30), (31, 34), (35, 37), (38, 44), (46, 48), (49, 54), (55, 57), (58, 61), (62, 66), (67, 73), (74, 76), (77, 83), (84, 93), (95, 101), (102, 104), (105, 113)], 'term_word_ids': [2]}\n",
      "NLTK punkt tokenizer not available for Serbian. Using default.\n",
      "{'text': 'pokreće sve. ||**List** sa drveta je pao na zemlju||. Na stolu je bio list papira sa važnim beleškama. Ljubav je najlepša', 'detected_language': 'Serbian'}\n"
     ]
    },
    {
     "data": {
      "text/html": [
       "Reč 'list' u ovoj rečenici označava deo biljke koji je pao sa drveta na zemlju. U ovom kontekstu, 'list' se odnosi na tanak, ravni deo biljke koji obično ima zelenu boju i služi za disanje i fotosintezu.<hr>The word 'list' in this sentence refers to a part of a plant that has fallen from the tree to the ground. In this context, 'list' refers to a thin, flat part of a plant that is usually green and serves for respiration and photosynthesis."
      ],
      "text/plain": [
       "<IPython.core.display.HTML object>"
      ]
     },
     "metadata": {},
     "output_type": "display_data"
    },
    {
     "name": "stdout",
     "output_type": "stream",
     "text": [
      "**************************************************\n",
      "\n",
      "Term: intima pande (27, 39)\n",
      "Word 0: Abbati (0, 6)\n",
      "Word 1: medico (8, 14)\n",
      "Word 2: patronoque (16, 26)\n",
      "Word 3: intima (27, 33)\n",
      "Term word: 3\n",
      "Word 4: pande (34, 39)\n",
      "Term word: 4\n",
      "{'word_slices': [(0, 6), (8, 14), (16, 26), (27, 33), (34, 39)], 'term_word_ids': [3, 4]}\n",
      "NLTK punkt tokenizer not available for Serbian. Using default.\n",
      "{'text': '||Abbati, medico, patronoque **intima pande**||.', 'detected_language': 'Serbian'}\n"
     ]
    },
    {
     "data": {
      "text/html": [
       "Izraz 'intima pande' znači 'otkrij najdublje tajne' ili 'pokaži najskrivenije misli'.<hr>Фраза 'intima pande' означает 'раскривај најдубље тајне' или 'покажи најскривеније мисли'."
      ],
      "text/plain": [
       "<IPython.core.display.HTML object>"
      ]
     },
     "metadata": {},
     "output_type": "display_data"
    },
    {
     "name": "stdout",
     "output_type": "stream",
     "text": [
      "**************************************************\n",
      "\n",
      "Term: Deus (0, 4)\n",
      "Word 0: Deus (0, 4)\n",
      "Term word: 0\n",
      "Word 1: ex (5, 7)\n",
      "Word 2: machina (8, 15)\n",
      "{'word_slices': [(0, 4), (5, 7), (8, 15)], 'term_word_ids': [0]}\n",
      "NLTK punkt tokenizer not available for Serbian. Using default.\n",
      "{'text': '||**Deus** ex machina||.', 'detected_language': 'Serbian'}\n"
     ]
    },
    {
     "data": {
      "text/html": [
       "U ovom kontekstu izraza 'Deus ex machina', izraz 'Deus' se koristi da označi boga ili božansku silu koja se neočekivano pojavljuje da reši zaplet ili problem u priči. U ovom slučaju, 'Deus' se odnosi na nadnaravnu intervenciju koja donosi rešenje bez prethodne pripreme ili objašnjenja.<hr>В этом контексте выражения 'Deus ex machina', термин 'Deus' используется для обозначения бога или божественной силы, которая неожиданно появляется, чтобы разрешить интригу или проблему в рассказе. В данном случае 'Deus' относится к сверхъестественному вмешательству, которое приносит решение без предварительной подготовки или объяснения."
      ],
      "text/plain": [
       "<IPython.core.display.HTML object>"
      ]
     },
     "metadata": {},
     "output_type": "display_data"
    },
    {
     "name": "stdout",
     "output_type": "stream",
     "text": [
      "**************************************************\n",
      "\n",
      "Term: se dešavalo (61, 72)\n",
      "Word 0: na (0, 2)\n",
      "Word 1: brzinu (3, 9)\n",
      "Word 2: sam (10, 13)\n",
      "Word 3: uradio (14, 20)\n",
      "Word 4: jutarnju (21, 29)\n",
      "Word 5: gimnastiku (30, 40)\n",
      "Word 6: i (41, 42)\n",
      "Word 7: obukao (43, 49)\n",
      "Word 8: se (50, 52)\n",
      "Word 9: To (54, 56)\n",
      "Word 10: što (57, 60)\n",
      "Word 11: se (61, 63)\n",
      "Term word: 11\n",
      "Word 12: dešavalo (64, 72)\n",
      "Term word: 12\n",
      "Word 13: delovalo (73, 81)\n",
      "Word 14: mi (82, 84)\n",
      "Word 15: je (85, 87)\n",
      "Word 16: krajnje (88, 95)\n",
      "Word 17: interesantno (96, 108)\n",
      "Word 18: Telefonski (110, 120)\n",
      "Word 19: fonogram (121, 129)\n",
      "{'word_slices': [(0, 2), (3, 9), (10, 13), (14, 20), (21, 29), (30, 40), (41, 42), (43, 49), (50, 52), (54, 56), (57, 60), (61, 63), (64, 72), (73, 81), (82, 84), (85, 87), (88, 95), (96, 108), (110, 120), (121, 129)], 'term_word_ids': [11, 12]}\n",
      "NLTK punkt tokenizer not available for Serbian. Using default.\n",
      "{'text': 'na brzinu sam uradio jutarnju gimnastiku i obukao se. ||To što **se dešavalo** delovalo mi je krajnje interesantno||. Telefonski fonogram', 'detected_language': 'Serbian'}\n"
     ]
    },
    {
     "data": {
      "text/html": [
       "Izraz 'se dešavalo' označava radnju koja se odvijala u prošlosti, u ovom slučaju u trećem licu jednine. Označava da je nešto bilo u toku ili se događalo u prošlosti.<hr>Фраза 'se dešavalo' обозначает действие, которое происходило в прошлом, в данном случае в третьем лице единственного числа. Она указывает на то, что что-то происходило или происходило в прошлом."
      ],
      "text/plain": [
       "<IPython.core.display.HTML object>"
      ]
     },
     "metadata": {},
     "output_type": "display_data"
    },
    {
     "name": "stdout",
     "output_type": "stream",
     "text": [
      "**************************************************\n",
      "\n"
     ]
    }
   ],
   "source": [
    "import os\n",
    "import os.path\n",
    "import sys\n",
    "sys.path.insert(0, os.path.abspath(os.path.join(os.getcwd(), '..')))\n",
    "\n",
    "import types\n",
    "import importlib\n",
    "from IPython.display import display, HTML\n",
    "import lexiflux.language.llm\n",
    "\n",
    "importlib.reload(lexiflux.language.llm)\n",
    "from lexiflux.language.llm import Llm\n",
    "\n",
    "# serbian_text = \"Ljubav je najlepša stvar na svetu. Ljubav pokreće sve.\"\n",
    "# word_to_translate = \"Ljubav\"\n",
    "\n",
    "# Llm._create_article_templates = types.MethodType(_create_article_templates, Llm)\n",
    "llm = Llm()\n",
    "\n",
    "\n",
    "book_code = \"my-book\"\n",
    "page_number = 1\n",
    "\n",
    "cases = [\n",
    "    {\n",
    "    \"text\": 'pokreće sve. List sa drveta je pao na zemlju. Na stolu je bio list papira sa važnim beleškama. Ljubav je najlepša',\n",
    "    \"term\": \"List\",\n",
    "    \"term_occurence\": 1,\n",
    "    \"text_language\": \"Serbian\",\n",
    "    \"user_language\": \"Russian\",\n",
    "    },\n",
    "    {\n",
    "    \"text\": 'pokreće sve. List sa drveta je pao na zemlju. Na stolu je bio list papira sa važnim beleškama. Ljubav je najlepša',\n",
    "    \"term\": \"List\",\n",
    "    \"term_occurence\": 1,\n",
    "    \"text_language\": \"Serbian\",\n",
    "    \"user_language\": \"English\",\n",
    "    },\n",
    "    {\n",
    "    \"text\": 'Abbati, medico, patronoque intima pande.',\n",
    "    \"term\": \"intima pande\",\n",
    "    \"term_occurence\": 1,\n",
    "    \"text_language\": \"Serbian\",\n",
    "    \"user_language\": \"Russian\",\n",
    "    },\n",
    "    {\n",
    "    \"text\" : 'Deus ex machina.',\n",
    "    \"term\": \"Deus\",\n",
    "    \"term_occurence\": 1,\n",
    "    \"text_language\": \"Serbian\",\n",
    "    \"user_language\": \"Russian\",\n",
    "    },\n",
    "    {\n",
    "    \"text\" : 'na brzinu sam uradio jutarnju gimnastiku i obukao se. To što se dešavalo delovalo mi je krajnje interesantno. Telefonski fonogram',\n",
    "    \"term\": \"se dešavalo\",\n",
    "    \"term_occurence\": 1,\n",
    "    \"text_language\": \"Serbian\",\n",
    "    \"user_language\": \"Russian\",\n",
    "    },\n",
    "]\n",
    "\n",
    "article_name = \"Explain\"\n",
    "params = {\"model\": \"gpt-3.5-turbo\"}  # \"gpt-4-turbo\"\n",
    "\n",
    "for case in cases:\n",
    "    data = case.copy()\n",
    "    words_info = llm.prepare_data(case[\"text\"], case[\"term\"], case[\"term_occurence\"])\n",
    "    print(words_info)\n",
    "    data[\"word_slices\"] = words_info[\"word_slices\"]\n",
    "    data[\"term_word_ids\"] = words_info[\"term_word_ids\"]\n",
    "    \n",
    "    article = llm.generate_article(\n",
    "        article_name, \n",
    "        params,\n",
    "        data,\n",
    "    )\n",
    "    display(HTML(article))\n",
    "    print(\"*\"*50)\n",
    "    print()\n"
   ]
  },
  {
   "cell_type": "code",
   "execution_count": null,
   "id": "ffcd8a80-9930-4157-bd89-c840c7007e89",
   "metadata": {},
   "outputs": [],
   "source": []
  },
  {
   "cell_type": "code",
   "execution_count": null,
   "id": "808a2d19-7b56-4616-a88c-598e6a1d73c2",
   "metadata": {},
   "outputs": [],
   "source": []
  },
  {
   "cell_type": "code",
   "execution_count": null,
   "id": "047bcc1a-cbdd-43ae-a20a-550d256845bb",
   "metadata": {},
   "outputs": [],
   "source": []
  }
 ],
 "metadata": {
  "kernelspec": {
   "display_name": "Python 3 (ipykernel)",
   "language": "python",
   "name": "python3"
  },
  "language_info": {
   "codemirror_mode": {
    "name": "ipython",
    "version": 3
   },
   "file_extension": ".py",
   "mimetype": "text/x-python",
   "name": "python",
   "nbconvert_exporter": "python",
   "pygments_lexer": "ipython3",
   "version": "3.12.3"
  }
 },
 "nbformat": 4,
 "nbformat_minor": 5
}
