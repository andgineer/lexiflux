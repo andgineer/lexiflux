{
 "cells": [
  {
   "cell_type": "code",
   "execution_count": 5,
   "id": "4594a37f-3aaf-459b-b31c-502a4f44ac78",
   "metadata": {},
   "outputs": [
    {
     "name": "stdout",
     "output_type": "stream",
     "text": [
      "API key is valid. Available models: ['dall-e-3', 'whisper-1', 'tts-1', 'dall-e-2', 'tts-1-hd-1106', 'tts-1-hd', 'gpt-4-turbo-2024-04-09', 'gpt-4-turbo', 'gpt-4-0613', 'gpt-4o-2024-05-13', 'gpt-4-0125-preview', 'gpt-4', 'text-embedding-3-small', 'gpt-4-turbo-preview', 'text-embedding-3-large', 'gpt-3.5-turbo-16k', 'babbage-002', 'gpt-3.5-turbo-0125', 'tts-1-1106', 'gpt-3.5-turbo', 'gpt-3.5-turbo-instruct', 'gpt-3.5-turbo-instruct-0914', 'gpt-4-1106-preview', 'gpt-3.5-turbo-1106', 'text-embedding-ada-002', 'davinci-002', 'gpt-4o']\n"
     ]
    }
   ],
   "source": [
    "import os\n",
    "import sys\n",
    "from langchain_core.prompts import ChatPromptTemplate\n",
    "from langchain_core.output_parsers import StrOutputParser\n",
    "from langchain_openai import ChatOpenAI\n",
    "from langchain_anthropic import ChatAnthropic\n",
    "import openai\n",
    "import django\n",
    "\n",
    "openai.api_key = os.getenv(\"OPENAI_API_KEY\")\n",
    "# alternatively set LANGCHAIN_API_KEY\n",
    "os.environ[\"LANGCHAIN_TRACING_V2\"] = \"\"  # \"true\"\n",
    "\n",
    "try:\n",
    "    models = openai.models.list()\n",
    "    print(\"API key is valid. Available models:\", [model.id for model in models.data])\n",
    "except openai.error.AuthenticationError as e:\n",
    "    print(\"API key is invalid:\", str(e))\n",
    "\n",
    "openai_llm = ChatOpenAI(model=\"gpt-3.5-turbo\", api_key=os.getenv(\"OPENAI_API_KEY\"))  # gpt-4-turbo - more correct grammar info\n",
    "\n",
    "project_root = os.path.abspath(os.path.join(os.getcwd(), '..'))\n",
    "sys.path.append(project_root)\n",
    "os.environ.setdefault('DJANGO_SETTINGS_MODULE', '..core.settings')\n",
    "django.setup()\n"
   ]
  },
  {
   "cell_type": "code",
   "execution_count": 3,
   "id": "db89eff5-e02d-467c-9f37-8906da6bf007",
   "metadata": {},
   "outputs": [],
   "source": [
    "def llama3_request(prompt):\n",
    "    # This function should interact with your local Llama3 model.\n",
    "    # Replace the below code with actual API or command-line interaction.\n",
    "    import subprocess\n",
    "    result = subprocess.run(['ollama', 'run', 'llama3', '--prompt', prompt], capture_output=True, text=True)\n",
    "    return result.stdout\n"
   ]
  },
  {
   "cell_type": "code",
   "execution_count": 24,
   "id": "38b2232f-0272-4621-bcc5-f9ffe75cc4d3",
   "metadata": {},
   "outputs": [
    {
     "data": {
      "text/html": [
       "Reč \"list\" u ovom kontekstu se odnosi na tanku ravnu površinu koja je obično deo drveta ili papira. U ovom slučaju, reč \"list\" se koristi kako bi se opisala površina drveta ili papira koja je pala na zemlju ili bila na stolu. U srpskom jeziku, reč \"list\" može imati različita značenja u zavisnosti od konteksta, kao što su deo drveta, deo papira ili nešto što je tanko i ravno.\n",
       "\n",
       "Examples:\n",
       "- Našla sam suv list na stazi u šumi.\n",
       "- Na stolu je bio list sa receptom za kolače."
      ],
      "text/plain": [
       "<IPython.core.display.HTML object>"
      ]
     },
     "metadata": {},
     "output_type": "display_data"
    },
    {
     "name": "stdout",
     "output_type": "stream",
     "text": [
      "**************************************************\n",
      "\n"
     ]
    },
    {
     "data": {
      "text/html": [
       "In this sentence, the word \"list\" refers to a sheet of paper. It is used as a noun and indicates a physical piece of paper. In this context, \"list\" specifically refers to a sheet of paper with important notes written on it.\n",
       "\n",
       "Example sentences in Serbian:\n",
       "- Na stolu je bio list sa pesmama koje je napisala.\n",
       "- Molim te, donesi mi list sa informacijama o tom događaju."
      ],
      "text/plain": [
       "<IPython.core.display.HTML object>"
      ]
     },
     "metadata": {},
     "output_type": "display_data"
    },
    {
     "name": "stdout",
     "output_type": "stream",
     "text": [
      "**************************************************\n",
      "\n"
     ]
    },
    {
     "data": {
      "text/html": [
       "In this sentence, the word \"intima pande\" is used to convey the idea of revealing or disclosing intimate or private matters. It is used as a command or request to share personal information or secrets. \n",
       "\n",
       "This phrase is in Latin and is used in a poetic context, often found in classical literature. It is not a common everyday expression but rather a formal and literary way of asking someone to open up about personal or confidential topics.\n",
       "\n",
       "Example sentences in Serbian:\n",
       "- Molim te, podeli sa mnom svoje najintimnije misli.\n",
       "- Otkrij mi svoje tajne, neka intima pande."
      ],
      "text/plain": [
       "<IPython.core.display.HTML object>"
      ]
     },
     "metadata": {},
     "output_type": "display_data"
    },
    {
     "name": "stdout",
     "output_type": "stream",
     "text": [
      "**************************************************\n",
      "\n"
     ]
    },
    {
     "data": {
      "text/html": [
       "In this sentence, the word \"Deus\" refers to a god or deity. It is used in the context of \"Deus ex machina,\" a Latin phrase that translates to \"god from the machine.\" This phrase is often used to describe a plot device where a seemingly unsolvable problem is suddenly and abruptly resolved by an unexpected intervention. It is a literary or theatrical technique where a god or some external force is introduced to resolve the conflict in a story.\n",
       "\n",
       "Example sentences in Serbian:\n",
       "- Verovanje u više božanstava karakteristično je za drevne civilizacije.\n",
       "- U starogrčkim tragedijama često se pojavljuje božanska intervencija kao ključni element zapleta."
      ],
      "text/plain": [
       "<IPython.core.display.HTML object>"
      ]
     },
     "metadata": {},
     "output_type": "display_data"
    },
    {
     "name": "stdout",
     "output_type": "stream",
     "text": [
      "**************************************************\n",
      "\n"
     ]
    },
    {
     "data": {
      "text/html": [
       "In this sentence, \"se dešavalo\" means \"was happening.\" It is a reflexive verb form in Serbian, indicating an action that is happening to the subject itself. In this context, it refers to events or situations that were occurring. The verb \"dešavati se\" is commonly used in Serbian to describe ongoing or past actions or events.\n",
       "\n",
       "Example sentences in Serbian:\n",
       "- Juče se dešavalo nešto čudno u komšiluku.\n",
       "- Kada se dešava nešto važno, obično budem obavešten/a."
      ],
      "text/plain": [
       "<IPython.core.display.HTML object>"
      ]
     },
     "metadata": {},
     "output_type": "display_data"
    },
    {
     "name": "stdout",
     "output_type": "stream",
     "text": [
      "**************************************************\n",
      "\n"
     ]
    }
   ],
   "source": [
    "import os\n",
    "import os.path\n",
    "import sys\n",
    "sys.path.insert(0, os.path.abspath(os.path.join(os.getcwd(), '..')))\n",
    "\n",
    "import types\n",
    "import importlib\n",
    "from IPython.display import display, HTML\n",
    "import lexiflux.language.llm\n",
    "import lexiflux.language.sentence_extractor_llm\n",
    "\n",
    "importlib.reload(lexiflux.language.llm)\n",
    "importlib.reload(lexiflux.language.sentence_extractor_llm)\n",
    "from lexiflux.language.llm import Llm\n",
    "\n",
    "# serbian_text = \"Ljubav je najlepša stvar na svetu. Ljubav pokreće sve.\"\n",
    "# word_to_translate = \"Ljubav\"\n",
    "\n",
    "# Llm._create_article_templates = types.MethodType(_create_article_templates, Llm)\n",
    "llm = Llm()\n",
    "\n",
    "\n",
    "book_code = \"my-book\"\n",
    "page_number = 1\n",
    "\n",
    "cases = [\n",
    "    {\n",
    "    \"text\": 'pokreće sve. ||[HIGHLIGHT]List[/HIGHLIGHT] sa drveta je pao na zemlju. Na stolu je bio list papira sa važnim beleškama||. Ljubav je najlepša',\n",
    "    \"text_language\": \"Serbian\",\n",
    "    \"detected_language\": \"Serbian\",\n",
    "    \"user_language\": \"Russian\",\n",
    "    },\n",
    "    {\n",
    "    \"text\": 'pokreće sve. ||[HIGHLIGHT]List[/HIGHLIGHT] sa drveta je pao na zemlju. Na stolu je bio list papira sa važnim beleškama||. Ljubav je najlepša',\n",
    "    \"text_language\": \"Serbian\",\n",
    "    \"detected_language\": \"Serbian\",\n",
    "    \"user_language\": \"English\",\n",
    "    },\n",
    "    {\n",
    "    \"text\": '||Abbati, medico, patronoque [HIGHLIGHT]intima pande[/HIGHLIGHT]||.',\n",
    "    \"text_language\": \"Serbian\",\n",
    "    \"detected_language\": \"Latin\",\n",
    "    \"user_language\": \"English\",\n",
    "    },\n",
    "    {\n",
    "    \"text\" : '||[HIGHLIGHT]Deus[/HIGHLIGHT] ex machina||.',\n",
    "    \"text_language\": \"Serbian\",\n",
    "    \"detected_language\": \"Latin\",\n",
    "    \"user_language\": \"English\",\n",
    "    },\n",
    "    {\n",
    "    \"text\" : 'na brzinu sam uradio jutarnju gimnastiku i obukao se. ||To što [HIGHLIGHT]se dešavalo[/HIGHLIGHT] delovalo mi je krajnje interesantno||. Telefonski fonogram',\n",
    "    \"text_language\": \"Serbian\",\n",
    "    \"detected_language\": \"Serbian\",\n",
    "    \"user_language\": \"English\",\n",
    "    },\n",
    "]\n",
    "\n",
    "article_name = \"Explain\"\n",
    "model_name = \"gpt-3.5-turbo\"  # \"gpt-4-turbo\"\n",
    "\n",
    "for case in cases:\n",
    "    data = case.copy()\n",
    "    data[\"model\"] = model_name\n",
    "    model = llm._get_or_create_model(data)\n",
    "    pipeline = llm._article_pipelines_factory[article_name](model)\n",
    "    article = pipeline.invoke(data)\n",
    "    \n",
    "    display(HTML(article))\n",
    "    print(\"*\"*50)\n",
    "    print()\n"
   ]
  },
  {
   "cell_type": "code",
   "execution_count": 58,
   "id": "ffcd8a80-9930-4157-bd89-c840c7007e89",
   "metadata": {},
   "outputs": [
    {
     "data": {
      "text/plain": [
       "'Deus'"
      ]
     },
     "execution_count": 58,
     "metadata": {},
     "output_type": "execute_result"
    }
   ],
   "source": [
    "remove_marks(\"[HIGHLIGHT]Deus[/HIGHLIGHT]\")"
   ]
  },
  {
   "cell_type": "code",
   "execution_count": null,
   "id": "808a2d19-7b56-4616-a88c-598e6a1d73c2",
   "metadata": {},
   "outputs": [],
   "source": []
  },
  {
   "cell_type": "code",
   "execution_count": null,
   "id": "047bcc1a-cbdd-43ae-a20a-550d256845bb",
   "metadata": {},
   "outputs": [],
   "source": []
  }
 ],
 "metadata": {
  "kernelspec": {
   "display_name": "Python 3 (ipykernel)",
   "language": "python",
   "name": "python3"
  },
  "language_info": {
   "codemirror_mode": {
    "name": "ipython",
    "version": 3
   },
   "file_extension": ".py",
   "mimetype": "text/x-python",
   "name": "python",
   "nbconvert_exporter": "python",
   "pygments_lexer": "ipython3",
   "version": "3.12.3"
  }
 },
 "nbformat": 4,
 "nbformat_minor": 5
}
