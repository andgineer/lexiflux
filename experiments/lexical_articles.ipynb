{
 "cells": [
  {
   "cell_type": "code",
   "execution_count": 1,
   "id": "5366dc97",
   "metadata": {},
   "outputs": [
    {
     "name": "stdout",
     "output_type": "stream",
     "text": [
      "Lexiflux 1.8.0 is ready.\n"
     ]
    }
   ],
   "source": [
    "import os\n",
    "import sys\n",
    "\n",
    "PWD = os.getenv(\"PWD\")\n",
    "os.chdir(PWD)\n",
    "sys.path.insert(0, os.getenv(\"PWD\"))\n",
    "os.environ.setdefault(\"DJANGO_SETTINGS_MODULE\", \"lexiflux.settings\")\n",
    "os.environ[\"DJANGO_ALLOW_ASYNC_UNSAFE\"] = \"true\"\n",
    "import django\n",
    "\n",
    "django.setup()"
   ]
  },
  {
   "cell_type": "code",
   "execution_count": 5,
   "id": "4594a37f-3aaf-459b-b31c-502a4f44ac78",
   "metadata": {},
   "outputs": [
    {
     "name": "stderr",
     "output_type": "stream",
     "text": [
      "INFO:httpx:HTTP Request: GET https://api.openai.com/v1/models \"HTTP/1.1 200 OK\"\n"
     ]
    },
    {
     "name": "stdout",
     "output_type": "stream",
     "text": [
      "API key is valid. Available models: ['dall-e-3', 'gpt-4o-mini', 'text-embedding-3-large', 'text-embedding-3-small', 'gpt-4-0125-preview', 'text-embedding-ada-002', 'dall-e-2', 'tts-1', 'tts-1-hd-1106', 'tts-1-1106', 'tts-1-hd', 'gpt-4', 'babbage-002', 'gpt-4-turbo-preview', 'gpt-4o-2024-08-06', 'gpt-3.5-turbo', 'gpt-4o', 'gpt-3.5-turbo-1106', 'whisper-1', 'gpt-3.5-turbo-16k', 'gpt-3.5-turbo-instruct-0914', 'gpt-3.5-turbo-0125', 'gpt-4-0613', 'gpt-3.5-turbo-instruct', 'gpt-4-1106-preview', 'chatgpt-4o-latest', 'gpt-4-turbo-2024-04-09', 'davinci-002', 'gpt-4-turbo', 'gpt-4o-2024-05-13', 'gpt-4o-mini-2024-07-18']\n"
     ]
    }
   ],
   "source": [
    "import os\n",
    "import sys\n",
    "from langchain_openai import ChatOpenAI\n",
    "import openai\n",
    "import django\n",
    "\n",
    "openai.api_key = os.getenv(\"OPENAI_API_KEY\")\n",
    "# alternatively set LANGCHAIN_API_KEY\n",
    "os.environ[\"LANGCHAIN_TRACING_V2\"] = \"\"  # \"true\"\n",
    "\n",
    "try:\n",
    "    models = openai.models.list()\n",
    "    print(\"API key is valid. Available models:\", [model.id for model in models.data])\n",
    "except openai.error.AuthenticationError as e:\n",
    "    print(\"API key is invalid:\", str(e))\n",
    "\n",
    "openai_llm = ChatOpenAI(\n",
    "    model=\"gpt-3.5-turbo\", api_key=os.getenv(\"OPENAI_API_KEY\")\n",
    ")  # gpt-4-turbo - more correct grammar info\n",
    "\n",
    "# project_root = os.path.abspath(os.path.join(os.getcwd(), \"..\"))\n",
    "# sys.path.append(project_root)"
   ]
  },
  {
   "cell_type": "code",
   "execution_count": 6,
   "id": "38b2232f-0272-4621-bcc5-f9ffe75cc4d3",
   "metadata": {},
   "outputs": [
    {
     "name": "stderr",
     "output_type": "stream",
     "text": [
      "INFO:httpx:HTTP Request: POST https://api.openai.com/v1/chat/completions \"HTTP/1.1 200 OK\"\n"
     ]
    },
    {
     "data": {
      "text/html": [
       "В данном контексте выделенное слово обозначает плоский объект, который обычно имеет форму и размер, позволяющий его использовать для записи или отображения информации. В первом предложении речь идет о природном элементе, который опадает с дерева, а во втором – о материале, на котором написаны важные заметки. \n",
       "\n",
       "Такое использование слова может подразумевать как физический объект, так и метафорическое значение, связанное с информацией или идеями. В сербском языке слово может использоваться в различных контекстах, например, в значении \"страница\" или \"документ\". В этом случае оно указывает на важность содержания, которое записано на данном материале.\n",
       "\n",
       "Культурно важно отметить, что в сербском языке акцент на записанных заметках может указывать на значимость информации, особенно в учебной или рабочей среде. Это отличается от более общего использования слова в других контекстах, где акцент может быть на самом объекте, а не на его содержании. \n",
       "\n",
       "В русском языке аналогом может быть слово \"лист\", которое также используется в обоих значениях, но в данном контексте акцент на важности записей делает использование в сербском языке более специфичным."
      ],
      "text/plain": [
       "<IPython.core.display.HTML object>"
      ]
     },
     "metadata": {},
     "output_type": "display_data"
    },
    {
     "name": "stdout",
     "output_type": "stream",
     "text": [
      "**************************************************\n",
      "\n"
     ]
    },
    {
     "name": "stderr",
     "output_type": "stream",
     "text": [
      "INFO:httpx:HTTP Request: POST https://api.openai.com/v1/chat/completions \"HTTP/1.1 200 OK\"\n"
     ]
    },
    {
     "data": {
      "text/html": [
       "In this context, the highlighted term refers to a flat, thin piece of material that can be either a part of a tree or a sheet of paper. The first usage implies a natural element, specifically a part of a tree that has fallen to the ground, which is a common occurrence in nature, especially during autumn. The second usage denotes a man-made item, specifically a sheet of paper that contains important notes.\n",
       "\n",
       "The cultural aspect here is that the word can represent both nature and human creation, reflecting the duality of life—how we interact with the natural world and how we create and document our thoughts and ideas. This duality is common in many languages, but in this case, it highlights how one word can encompass both organic and synthetic meanings.\n",
       "\n",
       "While the word can mean \"leaf\" in English when referring to a part of a plant, it can also mean \"sheet\" when discussing paper. This text fragment illustrates both meanings, showing how context can change the interpretation of the same word."
      ],
      "text/plain": [
       "<IPython.core.display.HTML object>"
      ]
     },
     "metadata": {},
     "output_type": "display_data"
    },
    {
     "name": "stdout",
     "output_type": "stream",
     "text": [
      "**************************************************\n",
      "\n"
     ]
    },
    {
     "name": "stderr",
     "output_type": "stream",
     "text": [
      "INFO:httpx:HTTP Request: POST https://api.openai.com/v1/chat/completions \"HTTP/1.1 200 OK\"\n"
     ]
    },
    {
     "data": {
      "text/html": [
       "In this context, the phrase refers to the act of revealing or disclosing something intimate or personal. The usage here suggests a deeper level of sharing, possibly involving sensitive or private information. \n",
       "\n",
       "Culturally, this phrase might be associated with trust and vulnerability, indicating a relationship where one feels safe enough to open up to another person, such as a doctor or a patron. It emphasizes the importance of confidentiality and understanding in such relationships.\n",
       "\n",
       "This phrase might differ from other common uses of similar expressions, which could simply mean to share information without the same emotional or personal depth. In English, a close equivalent could be \"to lay bare\" or \"to bare one's soul,\" which also conveys a sense of openness and intimacy in sharing one's thoughts or feelings."
      ],
      "text/plain": [
       "<IPython.core.display.HTML object>"
      ]
     },
     "metadata": {},
     "output_type": "display_data"
    },
    {
     "name": "stdout",
     "output_type": "stream",
     "text": [
      "**************************************************\n",
      "\n"
     ]
    },
    {
     "name": "stderr",
     "output_type": "stream",
     "text": [
      "INFO:httpx:HTTP Request: POST https://api.openai.com/v1/chat/completions \"HTTP/1.1 200 OK\"\n"
     ]
    },
    {
     "data": {
      "text/html": [
       "The phrase you are looking at refers to a narrative device where an unexpected power or event suddenly resolves a seemingly unsolvable problem in a story. In this context, it signifies a situation where a character or event appears out of nowhere to provide a solution, often in a way that feels contrived or artificial. \n",
       "\n",
       "This expression has roots in ancient Greek theater, where a god would be lowered onto the stage using a machine to resolve conflicts, hence the term. It carries a somewhat critical connotation, suggesting that the resolution lacks authenticity or depth, as it does not arise naturally from the plot or character development.\n",
       "\n",
       "In Serbian culture, this concept is also recognized and can be used to critique storytelling, especially in literature and film, where such a resolution might feel unsatisfactory to the audience. \n",
       "\n",
       "While the phrase itself is borrowed directly from Latin and used in various languages, including English, its usage in Serbian contexts might emphasize the disconnect between the resolution and the narrative's internal logic more than in casual English conversations."
      ],
      "text/plain": [
       "<IPython.core.display.HTML object>"
      ]
     },
     "metadata": {},
     "output_type": "display_data"
    },
    {
     "name": "stdout",
     "output_type": "stream",
     "text": [
      "**************************************************\n",
      "\n"
     ]
    },
    {
     "name": "stderr",
     "output_type": "stream",
     "text": [
      "INFO:httpx:HTTP Request: POST https://api.openai.com/v1/chat/completions \"HTTP/1.1 200 OK\"\n"
     ]
    },
    {
     "data": {
      "text/html": [
       "In this context, the highlighted phrase refers to events or occurrences that are happening or have happened. It suggests a sense of ongoing action or a series of incidents that are noteworthy or unusual. \n",
       "\n",
       "The phrase conveys a feeling of curiosity or intrigue regarding these events, indicating that they caught the speaker's attention and seemed significant or engaging. This usage reflects a common way in Serbian to describe situations or happenings that are unfolding, often with a hint of surprise or interest.\n",
       "\n",
       "Culturally, this expression can be used in various contexts, such as discussing news, personal experiences, or observations. It emphasizes the speaker's engagement with the events, suggesting they are not just passive observers but are actively reflecting on what is occurring.\n",
       "\n",
       "This usage may differ from more general expressions of \"happening\" or \"occurring\" in English, as it often carries an implication of importance or interest, rather than simply stating that something is taking place."
      ],
      "text/plain": [
       "<IPython.core.display.HTML object>"
      ]
     },
     "metadata": {},
     "output_type": "display_data"
    },
    {
     "name": "stdout",
     "output_type": "stream",
     "text": [
      "**************************************************\n",
      "\n"
     ]
    }
   ],
   "source": [
    "import os\n",
    "import os.path\n",
    "import sys\n",
    "\n",
    "sys.path.insert(0, os.path.abspath(os.path.join(os.getcwd(), \"..\")))\n",
    "\n",
    "import importlib\n",
    "from IPython.display import display, HTML\n",
    "import lexiflux.language.llm\n",
    "import lexiflux.language.sentence_extractor_llm\n",
    "\n",
    "importlib.reload(lexiflux.language.llm)\n",
    "importlib.reload(lexiflux.language.sentence_extractor_llm)\n",
    "from lexiflux.language.llm import Llm\n",
    "from lexiflux.decorators import get_default_user\n",
    "\n",
    "\n",
    "# serbian_text = \"Ljubav je najlepša stvar na svetu. Ljubav pokreće sve.\"\n",
    "# word_to_translate = \"Ljubav\"\n",
    "\n",
    "# Llm._create_article_templates = types.MethodType(_create_article_templates, Llm)\n",
    "llm = Llm()\n",
    "\n",
    "\n",
    "book_code = \"my-book\"\n",
    "page_number = 1\n",
    "\n",
    "cases = [\n",
    "    {\n",
    "        \"text\": \"pokreće sve. ||[HIGHLIGHT]List[/HIGHLIGHT] sa drveta je pao na zemlju. Na stolu je bio list papira sa važnim beleškama||. Ljubav je najlepša\",\n",
    "        \"text_language\": \"Serbian\",\n",
    "        \"detected_language\": \"Serbian\",\n",
    "        \"user_language\": \"Russian\",\n",
    "    },\n",
    "    {\n",
    "        \"text\": \"pokreće sve. ||[HIGHLIGHT]List[/HIGHLIGHT] sa drveta je pao na zemlju. Na stolu je bio list papira sa važnim beleškama||. Ljubav je najlepša\",\n",
    "        \"text_language\": \"Serbian\",\n",
    "        \"detected_language\": \"Serbian\",\n",
    "        \"user_language\": \"English\",\n",
    "    },\n",
    "    {\n",
    "        \"text\": \"||Abbati, medico, patronoque [HIGHLIGHT]intima pande[/HIGHLIGHT]||.\",\n",
    "        \"text_language\": \"Serbian\",\n",
    "        \"detected_language\": \"Latin\",\n",
    "        \"user_language\": \"English\",\n",
    "    },\n",
    "    {\n",
    "        \"text\": \"||[HIGHLIGHT]Deus[/HIGHLIGHT] ex machina||.\",\n",
    "        \"text_language\": \"Serbian\",\n",
    "        \"detected_language\": \"Latin\",\n",
    "        \"user_language\": \"English\",\n",
    "    },\n",
    "    {\n",
    "        \"text\": \"na brzinu sam uradio jutarnju gimnastiku i obukao se. ||To što [HIGHLIGHT]se dešavalo[/HIGHLIGHT] delovalo mi je krajnje interesantno||. Telefonski fonogram\",\n",
    "        \"text_language\": \"Serbian\",\n",
    "        \"detected_language\": \"Serbian\",\n",
    "        \"user_language\": \"English\",\n",
    "    },\n",
    "]\n",
    "\n",
    "article_name = \"Explain\"\n",
    "model_name = \"gpt-4o-mini\"  # \"gpt-3.5-turbo\"  # \"gpt-4-turbo\"\n",
    "\n",
    "user = get_default_user()\n",
    "\n",
    "for case in cases:\n",
    "    data = case.copy()\n",
    "    data[\"model\"] = model_name\n",
    "    data[\"user\"] = user\n",
    "    model = llm._get_or_create_model(data)\n",
    "    pipeline = llm._article_pipelines_factory[article_name](model)\n",
    "    article = pipeline.invoke(data)\n",
    "\n",
    "    display(HTML(article))\n",
    "    print(\"*\" * 50)\n",
    "    print()"
   ]
  },
  {
   "cell_type": "code",
   "execution_count": null,
   "id": "808a2d19-7b56-4616-a88c-598e6a1d73c2",
   "metadata": {},
   "outputs": [],
   "source": []
  },
  {
   "cell_type": "code",
   "execution_count": null,
   "id": "047bcc1a-cbdd-43ae-a20a-550d256845bb",
   "metadata": {},
   "outputs": [],
   "source": []
  }
 ],
 "metadata": {
  "kernelspec": {
   "display_name": "Python 3 (ipykernel)",
   "language": "python",
   "name": "python3"
  },
  "language_info": {
   "codemirror_mode": {
    "name": "ipython",
    "version": 3
   },
   "file_extension": ".py",
   "mimetype": "text/x-python",
   "name": "python",
   "nbconvert_exporter": "python",
   "pygments_lexer": "ipython3",
   "version": "3.12.4"
  }
 },
 "nbformat": 4,
 "nbformat_minor": 5
}
