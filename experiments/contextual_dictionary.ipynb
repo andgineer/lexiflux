{
 "cells": [
  {
   "cell_type": "code",
   "execution_count": 1,
   "id": "4594a37f-3aaf-459b-b31c-502a4f44ac78",
   "metadata": {},
   "outputs": [
    {
     "name": "stdout",
     "output_type": "stream",
     "text": [
      "API key is valid. Available models: ['whisper-1', 'tts-1', 'dall-e-2', 'tts-1-hd-1106', 'tts-1-hd', 'gpt-4-turbo-2024-04-09', 'gpt-4-turbo', 'gpt-3.5-turbo-1106', 'dall-e-3', 'gpt-4o-2024-05-13', 'gpt-4-0125-preview', 'gpt-4o', 'gpt-4-turbo-preview', 'text-embedding-3-small', 'text-embedding-3-large', 'gpt-3.5-turbo-16k', 'gpt-4-1106-preview', 'babbage-002', 'gpt-4', 'gpt-4-0613', 'gpt-3.5-turbo-0125', 'tts-1-1106', 'gpt-3.5-turbo', 'gpt-3.5-turbo-instruct', 'gpt-3.5-turbo-instruct-0914', 'text-embedding-ada-002', 'davinci-002']\n"
     ]
    }
   ],
   "source": [
    "import os\n",
    "from langchain_core.prompts import ChatPromptTemplate\n",
    "from langchain_core.output_parsers import StrOutputParser\n",
    "from langchain_openai import ChatOpenAI\n",
    "from langchain_anthropic import ChatAnthropic\n",
    "import openai\n",
    "\n",
    "# For ChatGPT-4\n",
    "openai.api_key = os.getenv(\"OPENAI_API_KEY\")\n",
    "# alternatively set LANGCHAIN_API_KEY\n",
    "os.environ[\"LANGCHAIN_TRACING_V2\"] = \"\"  # \"true\"\n",
    "\n",
    "try:\n",
    "    models = openai.models.list()\n",
    "    print(\"API key is valid. Available models:\", [model.id for model in models.data])\n",
    "except openai.error.AuthenticationError as e:\n",
    "    print(\"API key is invalid:\", str(e))\n",
    "\n",
    "openai_llm = ChatOpenAI(model=\"gpt-3.5-turbo\", api_key=os.getenv(\"OPENAI_API_KEY\"))  # gpt-4-turbo - more correct grammar info\n"
   ]
  },
  {
   "cell_type": "code",
   "execution_count": 3,
   "id": "db89eff5-e02d-467c-9f37-8906da6bf007",
   "metadata": {},
   "outputs": [],
   "source": [
    "def llama3_request(prompt):\n",
    "    # This function should interact with your local Llama3 model.\n",
    "    # Replace the below code with actual API or command-line interaction.\n",
    "    import subprocess\n",
    "    result = subprocess.run(['ollama', 'run', 'llama3', '--prompt', prompt], capture_output=True, text=True)\n",
    "    return result.stdout\n"
   ]
  },
  {
   "cell_type": "code",
   "execution_count": 4,
   "id": "38b2232f-0272-4621-bcc5-f9ffe75cc4d3",
   "metadata": {},
   "outputs": [
    {
     "name": "stdout",
     "output_type": "stream",
     "text": [
      "term: List\n",
      "NLTK punkt tokenizer not available for Serbian. Using default.\n",
      "sentences: ['pokreće sve.', 'List sa drveta je pao na zemlju.', 'Na stolu je bio list papira sa važnim beleškama.', 'Ljubav je najlepša']\n"
     ]
    },
    {
     "ename": "KeyError",
     "evalue": "slice(None, 10, None)",
     "output_type": "error",
     "traceback": [
      "\u001b[0;31m---------------------------------------------------------------------------\u001b[0m",
      "\u001b[0;31mKeyError\u001b[0m                                  Traceback (most recent call last)",
      "Cell \u001b[0;32mIn[4], line 80\u001b[0m\n\u001b[1;32m     71\u001b[0m \u001b[38;5;66;03m# print(llm._detect_sentence(\"\", llm._hashable_dict(article_params), llm._hashable_dict(data)))\u001b[39;00m\n\u001b[1;32m     73\u001b[0m article \u001b[38;5;241m=\u001b[39m llm\u001b[38;5;241m.\u001b[39mget_article_from_text(\n\u001b[1;32m     74\u001b[0m     article_name\u001b[38;5;241m=\u001b[39marticle_name, \n\u001b[1;32m     75\u001b[0m     text\u001b[38;5;241m=\u001b[39mtext[\u001b[38;5;124m\"\u001b[39m\u001b[38;5;124mtext\u001b[39m\u001b[38;5;124m\"\u001b[39m],\n\u001b[0;32m   (...)\u001b[0m\n\u001b[1;32m     78\u001b[0m     user_language\u001b[38;5;241m=\u001b[39mtext[\u001b[38;5;124m\"\u001b[39m\u001b[38;5;124muser_language\u001b[39m\u001b[38;5;124m\"\u001b[39m]\n\u001b[1;32m     79\u001b[0m )\n\u001b[0;32m---> 80\u001b[0m display(\u001b[43mHTML\u001b[49m\u001b[43m(\u001b[49m\u001b[43marticle\u001b[49m\u001b[43m)\u001b[49m)\n\u001b[1;32m     81\u001b[0m \u001b[38;5;28mprint\u001b[39m(\u001b[38;5;124m\"\u001b[39m\u001b[38;5;124m*\u001b[39m\u001b[38;5;124m\"\u001b[39m\u001b[38;5;241m*\u001b[39m\u001b[38;5;241m50\u001b[39m)\n\u001b[1;32m     82\u001b[0m \u001b[38;5;28mprint\u001b[39m()\n",
      "File \u001b[0;32m~/projects/learn/lexiflux/.venv/lib/python3.12/site-packages/IPython/core/display.py:430\u001b[0m, in \u001b[0;36mHTML.__init__\u001b[0;34m(self, data, url, filename, metadata)\u001b[0m\n\u001b[1;32m    427\u001b[0m     suffix \u001b[38;5;241m=\u001b[39m data[\u001b[38;5;241m-\u001b[39m\u001b[38;5;241m10\u001b[39m:]\u001b[38;5;241m.\u001b[39mlower()\n\u001b[1;32m    428\u001b[0m     \u001b[38;5;28;01mreturn\u001b[39;00m prefix\u001b[38;5;241m.\u001b[39mstartswith(\u001b[38;5;124m\"\u001b[39m\u001b[38;5;124m<iframe \u001b[39m\u001b[38;5;124m\"\u001b[39m) \u001b[38;5;129;01mand\u001b[39;00m suffix\u001b[38;5;241m.\u001b[39mendswith(\u001b[38;5;124m\"\u001b[39m\u001b[38;5;124m</iframe>\u001b[39m\u001b[38;5;124m\"\u001b[39m)\n\u001b[0;32m--> 430\u001b[0m \u001b[38;5;28;01mif\u001b[39;00m \u001b[43mwarn\u001b[49m\u001b[43m(\u001b[49m\u001b[43m)\u001b[49m:\n\u001b[1;32m    431\u001b[0m     warnings\u001b[38;5;241m.\u001b[39mwarn(\u001b[38;5;124m\"\u001b[39m\u001b[38;5;124mConsider using IPython.display.IFrame instead\u001b[39m\u001b[38;5;124m\"\u001b[39m)\n\u001b[1;32m    432\u001b[0m \u001b[38;5;28msuper\u001b[39m(HTML, \u001b[38;5;28mself\u001b[39m)\u001b[38;5;241m.\u001b[39m\u001b[38;5;21m__init__\u001b[39m(data\u001b[38;5;241m=\u001b[39mdata, url\u001b[38;5;241m=\u001b[39murl, filename\u001b[38;5;241m=\u001b[39mfilename, metadata\u001b[38;5;241m=\u001b[39mmetadata)\n",
      "File \u001b[0;32m~/projects/learn/lexiflux/.venv/lib/python3.12/site-packages/IPython/core/display.py:426\u001b[0m, in \u001b[0;36mHTML.__init__.<locals>.warn\u001b[0;34m()\u001b[0m\n\u001b[1;32m    420\u001b[0m     \u001b[38;5;28;01mreturn\u001b[39;00m \u001b[38;5;28;01mFalse\u001b[39;00m\n\u001b[1;32m    422\u001b[0m \u001b[38;5;66;03m#\u001b[39;00m\n\u001b[1;32m    423\u001b[0m \u001b[38;5;66;03m# Avoid calling lower() on the entire data, because it could be a\u001b[39;00m\n\u001b[1;32m    424\u001b[0m \u001b[38;5;66;03m# long string and we're only interested in its beginning and end.\u001b[39;00m\n\u001b[1;32m    425\u001b[0m \u001b[38;5;66;03m#\u001b[39;00m\n\u001b[0;32m--> 426\u001b[0m prefix \u001b[38;5;241m=\u001b[39m \u001b[43mdata\u001b[49m\u001b[43m[\u001b[49m\u001b[43m:\u001b[49m\u001b[38;5;241;43m10\u001b[39;49m\u001b[43m]\u001b[49m\u001b[38;5;241m.\u001b[39mlower()\n\u001b[1;32m    427\u001b[0m suffix \u001b[38;5;241m=\u001b[39m data[\u001b[38;5;241m-\u001b[39m\u001b[38;5;241m10\u001b[39m:]\u001b[38;5;241m.\u001b[39mlower()\n\u001b[1;32m    428\u001b[0m \u001b[38;5;28;01mreturn\u001b[39;00m prefix\u001b[38;5;241m.\u001b[39mstartswith(\u001b[38;5;124m\"\u001b[39m\u001b[38;5;124m<iframe \u001b[39m\u001b[38;5;124m\"\u001b[39m) \u001b[38;5;129;01mand\u001b[39;00m suffix\u001b[38;5;241m.\u001b[39mendswith(\u001b[38;5;124m\"\u001b[39m\u001b[38;5;124m</iframe>\u001b[39m\u001b[38;5;124m\"\u001b[39m)\n",
      "\u001b[0;31mKeyError\u001b[0m: slice(None, 10, None)"
     ]
    }
   ],
   "source": [
    "import os\n",
    "import os.path\n",
    "import sys\n",
    "sys.path.insert(0, os.path.abspath(os.path.join(os.getcwd(), '..')))\n",
    "\n",
    "import types\n",
    "import importlib\n",
    "from IPython.display import display, HTML\n",
    "import lexiflux.language.llm\n",
    "\n",
    "importlib.reload(lexiflux.language.llm)\n",
    "from lexiflux.language.llm import Llm\n",
    "\n",
    "# serbian_text = \"Ljubav je najlepša stvar na svetu. Ljubav pokreće sve.\"\n",
    "# word_to_translate = \"Ljubav\"\n",
    "\n",
    "# Llm._create_article_templates = types.MethodType(_create_article_templates, Llm)\n",
    "llm = Llm()\n",
    "\n",
    "\n",
    "article_name = \"Explain\"\n",
    "article_params = {\n",
    "    \"model_name\": \"gpt-3.5-turbo\"  # \"gpt-4-turbo\"  # Specify the model to use\n",
    "}\n",
    "\n",
    "data = {\n",
    "    \"text\": 'pokreće sve. List sa drveta je pao na zemlju. Na stolu je bio list papira sa važnim beleškama. Ljubav je najlepša',\n",
    "    \"term\": \"list\",\n",
    "    # \"text\": 'Abbati, medico, patronoque <selected>intima pande</selected>.',\n",
    "    # \"term\": \"intima pande\",\n",
    "    # \"text\" : '<selected>Deus</selected> ex machina.',\n",
    "    # \"term\": \"Deus\",\n",
    "    \"text_language\": \"Serbian\",\n",
    "    # \"user_language\": \"English\",\n",
    "    \"user_language\": \"Russian\",\n",
    "    \"book_code\": \"my-book\",\n",
    "    \"page_number\": 1,\n",
    "}\n",
    "\n",
    "texts = [\n",
    "    {\n",
    "    \"text\": 'pokreće sve. List sa drveta je pao na zemlju. Na stolu je bio list papira sa važnim beleškama. Ljubav je najlepša',\n",
    "    \"text_language\": \"Serbian\",\n",
    "    \"user_language\": \"Russian\",\n",
    "    },\n",
    "    {\n",
    "    \"text\": 'pokreće sve. **List** sa drveta je pao na zemlju. Na stolu je bio list papira sa važnim beleškama. Ljubav je najlepša',\n",
    "    \"text_language\": \"Serbian\",\n",
    "    \"user_language\": \"English\",\n",
    "    },\n",
    "    {\n",
    "    \"text\": 'Abbati, medico, patronoque **intima pande**.',\n",
    "    \"text_language\": \"Serbian\",\n",
    "    \"user_language\": \"Russian\",\n",
    "    },\n",
    "    {\n",
    "    \"text\" : '**Deus** ex machina.',\n",
    "    \"text_language\": \"Serbian\",\n",
    "    \"user_language\": \"Russian\",\n",
    "    },\n",
    "    {\n",
    "    \"text\" : 'na brzinu sam uradio jutarnju gimnastiku i obukao se. To što **se dešavalo** delovalo mi je krajnje interesantno. Telefonski fonogram',\n",
    "    \"text_language\": \"Serbian\",\n",
    "    \"user_language\": \"Russian\",\n",
    "    },\n",
    "]\n",
    "for text in texts[:1]:\n",
    "    data[\"text\"] = text[\"text\"]\n",
    "    data[\"text_language\"] = text[\"text_language\"]\n",
    "    data[\"user_language\"] = text[\"user_language\"]\n",
    "    # print(llm._detect_sentence(\"\", llm._hashable_dict(article_params), llm._hashable_dict(data)))\n",
    "    \n",
    "    article = llm.get_article_from_text(\n",
    "        article_name=article_name, \n",
    "        text=text[\"text\"],\n",
    "        term_word_indices=[2],\n",
    "        text_language=text[\"text_language\"],\n",
    "        user_language=text[\"user_language\"]\n",
    "    )\n",
    "    display(HTML(article))\n",
    "    print(\"*\"*50)\n",
    "    print()\n"
   ]
  },
  {
   "cell_type": "code",
   "execution_count": null,
   "id": "ffcd8a80-9930-4157-bd89-c840c7007e89",
   "metadata": {},
   "outputs": [],
   "source": []
  },
  {
   "cell_type": "code",
   "execution_count": null,
   "id": "808a2d19-7b56-4616-a88c-598e6a1d73c2",
   "metadata": {},
   "outputs": [],
   "source": []
  },
  {
   "cell_type": "code",
   "execution_count": null,
   "id": "047bcc1a-cbdd-43ae-a20a-550d256845bb",
   "metadata": {},
   "outputs": [],
   "source": []
  }
 ],
 "metadata": {
  "kernelspec": {
   "display_name": "Python 3 (ipykernel)",
   "language": "python",
   "name": "python3"
  },
  "language_info": {
   "codemirror_mode": {
    "name": "ipython",
    "version": 3
   },
   "file_extension": ".py",
   "mimetype": "text/x-python",
   "name": "python",
   "nbconvert_exporter": "python",
   "pygments_lexer": "ipython3",
   "version": "3.12.3"
  }
 },
 "nbformat": 4,
 "nbformat_minor": 5
}
